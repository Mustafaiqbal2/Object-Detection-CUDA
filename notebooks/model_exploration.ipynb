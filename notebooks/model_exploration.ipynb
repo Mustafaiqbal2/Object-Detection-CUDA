{
 "cells": [
  {
   "cell_type": "markdown",
   "metadata": {},
   "source": [
    "# Model Exploration\n",
    "\n",
    "This notebook is designed for exploring and experimenting with different object detection models and tracking algorithms. It allows users to visualize the performance of various models on sample video data."
   ]
  },
  {
   "cell_type": "code",
   "execution_count": null,
   "metadata": {
    "collapsed": false
   },
   "outputs": [],
   "source": [
    "# Import necessary libraries\n",
    "import cv2\n",
    "import numpy as np\n",
    "import matplotlib.pyplot as plt\n",
    "from src.models.detector import ObjectDetector\n",
    "from src.models.tracker import ObjectTracker\n",
    "from src.utils.visualization import visualize_detections\n",
    "\n",
    "# Load pre-trained model\n",
    "model_path = 'data/models/pretrained_model.pth'\n",
    "detector = ObjectDetector(model_path)\n",
    "\n",
    "# Initialize webcam\n",
    "cap = cv2.VideoCapture(0)\n",
    "\n",
    "# Process video frames\n",
    "while True:\n",
    "    ret, frame = cap.read()\n",
    "    if not ret:\n",
    "        break\n",
    "    \n",
    "    # Perform detection\n",
    "    detections = detector.detect(frame)\n",
    "    \n",
    "    # Visualize detections\n",
    "    visualize_detections(frame, detections)\n",
    "    \n",
    "    # Display the frame\n",
    "    cv2.imshow('Object Detection', frame)\n",
    "    if cv2.waitKey(1) & 0xFF == ord('q'):\n",
    "        break\n",
    "\n",
    "# Release the webcam and close windows\n",
    "cap.release()\n",
    "cv2.destroyAllWindows()"
   ]
  },
  {
   "cell_type": "markdown",
   "metadata": {},
   "source": [
    "## Experimenting with Different Models\n",
    "\n",
    "You can replace the model path and detector initialization with different models to compare their performance. Make sure to adjust the visualization and tracking logic accordingly."
   ]
  }
 ],
 "metadata": {
  "kernelspec": {
   "display_name": "Python 3",
   "language": "python",
   "name": "python3"
  },
  "language_info": {
   "codemirror_mode": {
    "name": "ipython",
    "version": 3
   },
   "file_extension": ".py",
   "mimetype": "text/x-python",
   "name": "python",
   "nbconvert_exporter": "python",
   "pygments_lexer": "ipython3",
   "version": "3.8.5"
  }
 },
 "nbformat": 4,
 "nbformat_minor": 4
}